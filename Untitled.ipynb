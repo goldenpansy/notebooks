{
 "cells": [
  {
   "cell_type": "code",
   "execution_count": 7,
   "metadata": {
    "collapsed": false
   },
   "outputs": [
    {
     "ename": "Error",
     "evalue": "<continue input>",
     "output_type": "error",
     "traceback": [
      ""
     ]
    }
   ],
   "source": [
    "package main\n",
    "\n",
    "import \"fmt\";\n",
    "\n",
    "func main(){\n",
    "    fmt.Println(\"Fuck off\")\n",
    "}"
   ]
  },
  {
   "cell_type": "code",
   "execution_count": 9,
   "metadata": {
    "collapsed": true
   },
   "outputs": [],
   "source": [
    ":help"
   ]
  },
  {
   "cell_type": "code",
   "execution_count": null,
   "metadata": {
    "collapsed": true
   },
   "outputs": [],
   "source": []
  }
 ],
 "metadata": {
  "kernelspec": {
   "display_name": "Go (gopherlab)",
   "language": "go",
   "name": "gopherlab"
  },
  "language_info": {
   "file_extension": ".go",
   "mimetype": "application/x-golang",
   "name": "go",
   "version": "go1.7.4"
  }
 },
 "nbformat": 4,
 "nbformat_minor": 2
}
