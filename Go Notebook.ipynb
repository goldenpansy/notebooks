{
 "cells": [
  {
   "cell_type": "markdown",
   "metadata": {},
   "source": [
    "# This is a magical place to try out the Go Language\n",
    "\n",
    "First of all let's begin with an hullo werld."
   ]
  },
  {
   "cell_type": "code",
   "execution_count": 9,
   "metadata": {
    "collapsed": false
   },
   "outputs": [
    {
     "ename": "Error",
     "evalue": "/tmp/178319655/func_proxy.go:4:4: expected declaration, found 'package'\n",
     "output_type": "error",
     "traceback": [
      "/tmp/178319655/func_proxy.go:4:4: expected declaration, found 'package'\n"
     ]
    }
   ],
   "source": [
    "package main\n",
    "import \"fmt\";\n",
    "\n",
    "func main() {\n",
    "    fmt.println(\"hullo werld\");\n",
    "}"
   ]
  },
  {
   "cell_type": "code",
   "execution_count": null,
   "metadata": {
    "collapsed": true
   },
   "outputs": [],
   "source": []
  }
 ],
 "metadata": {
  "kernelspec": {
   "display_name": "Go",
   "language": "go",
   "name": "gophernotes"
  },
  "language_info": {
   "name": "go"
  }
 },
 "nbformat": 4,
 "nbformat_minor": 2
}
